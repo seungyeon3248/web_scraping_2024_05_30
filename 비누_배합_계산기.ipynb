{
  "nbformat": 4,
  "nbformat_minor": 0,
  "metadata": {
    "colab": {
      "provenance": [],
      "authorship_tag": "ABX9TyPA0dl9mLK8bHFexmXZRs/a",
      "include_colab_link": true
    },
    "kernelspec": {
      "name": "python3",
      "display_name": "Python 3"
    },
    "language_info": {
      "name": "python"
    }
  },
  "cells": [
    {
      "cell_type": "markdown",
      "metadata": {
        "id": "view-in-github",
        "colab_type": "text"
      },
      "source": [
        "<a href=\"https://colab.research.google.com/github/seungyeon3248/web_scraping_2024_05_30/blob/master/%EB%B9%84%EB%88%84_%EB%B0%B0%ED%95%A9_%EA%B3%84%EC%82%B0%EA%B8%B0.ipynb\" target=\"_parent\"><img src=\"https://colab.research.google.com/assets/colab-badge.svg\" alt=\"Open In Colab\"/></a>"
      ]
    },
    {
      "cell_type": "code",
      "execution_count": 6,
      "metadata": {
        "colab": {
          "base_uri": "https://localhost:8080/"
        },
        "id": "ZtYNsVUpKlol",
        "outputId": "50c0d5d5-3adf-4c88-ef84-b2a6d8dd02be"
      },
      "outputs": [
        {
          "output_type": "stream",
          "name": "stdout",
          "text": [
            "비누 배합 계산기\n",
            "실행하시겠습니까? 예 또는 아니오를 입력하시오: 예\n",
            "단단한 비누를 원한다면 1, 무른 비누를 원한다면 2를 입력하시오: 2\n",
            "원하는 세정력의 정도를 1, 2, 3으로 입력하시오: 1\n",
            "원하는 버블의 정도를 1, 2, 3으로 입력하시오: 3\n",
            "원하는 보습의 정도를 1, 2, 3으로 입력하시오: 2\n",
            "선택된 재료는 다음과 같습니다. KOH , 아보카도 오일 , 글리세린\n",
            "사용할 지방의 g수를 입력하시오.100\n",
            "필요한 KOH양은 18.6 g 입니다.\n"
          ]
        }
      ],
      "source": [
        "import random\n",
        "import sys\n",
        "\n",
        "print('비누 배합 계산기')\n",
        "alkali = ['NaOH', 'KOH']\n",
        "hardness = float()\n",
        "cleaning = float()\n",
        "bubble = float()\n",
        "moisture = float()\n",
        "\n",
        "# 불포화 지방산 0, 포화 지방산 1\n",
        "saponi = [\n",
        "    ['아보카도 오일', 0.133, 0.186, 0],\n",
        "    ['밀랍', 0.069, 0.096, 1],\n",
        "    ['카놀라 오일', 0.124, 0.173, 0],\n",
        "    ['피마자 오일', 0.128, 0.180, 0],\n",
        "    ['시어버터', 0.128, 0.179, 0],\n",
        "    ['코코넛 오일', 0.190, 0.266, 1],\n",
        "    ['옥수수 기름', 0.136, 0.190, 0],\n",
        "    ['달맞이꽃 기름', 0.136, 0.191, 0],\n",
        "    ['아마인 유', 0.135, 0.189, 0],\n",
        "    ['포도씨 오일', 0.126, 0.177, 0],\n",
        "    ['대마유', 0.134, 0.188, 0],\n",
        "    ['조조바 오일', 0.069, 0.096, 0],\n",
        "    ['망고 오일', 0.128, 0.179, 0],\n",
        "    ['올리브유', 0.134, 0.187, 0],\n",
        "    ['팜유', 0.141, 0.197, 1],\n",
        "    ['땅콩 오일', 0.136, 0.190, 0],\n",
        "    ['참기름', 0.133, 0.186, 0],\n",
        "    ['식물성 쇼트닝', 0.136, 0.190, 1],\n",
        "    ['콩기름', 0.135, 0.189, 0],\n",
        "    ['해바라기씨 오일', 0.134, 0.187, 0]\n",
        "]\n",
        "\n",
        "def 프로그램종료():\n",
        "    print(\"프로그램을 종료합니다.\")\n",
        "    sys.exit()\n",
        "\n",
        "def 거품보습(f_alkali):\n",
        "    if bubble == 1:\n",
        "        fatty_acid = [item for item in saponi if item[3] == 1]\n",
        "    else:\n",
        "        fatty_acid = [item for item in saponi if item[3] == 0]\n",
        "\n",
        "    f_fatty_acid = random.choice(fatty_acid)\n",
        "\n",
        "    if moisture == 1:\n",
        "        print('선택된 재료는 다음과 같습니다.', f_alkali, ',', f_fatty_acid[0])\n",
        "    elif moisture == 2:\n",
        "        print('선택된 재료는 다음과 같습니다.', f_alkali,',', f_fatty_acid[0],',', '글리세린')\n",
        "    else:\n",
        "        print('선택된 재료는 다음과 같습니다.', f_alkali,',', f_fatty_acid[0], ',', '글리세린', ',', '세트릴 알코올')\n",
        "\n",
        "    최종계산(f_alkali, f_fatty_acid)\n",
        "\n",
        "def 최종계산(f_alkali, f_fatty_acid):\n",
        "    fat_amount = float(input('사용할 지방의 g수를 입력하시오.'))\n",
        "    need_KOH = float(f_fatty_acid[2] * fat_amount)\n",
        "    need_NaOH = float(f_fatty_acid[2] * fat_amount / 1.403)\n",
        "\n",
        "    if f_alkali == alkali[0]:\n",
        "        print('필요한 NaOH양은', need_NaOH, 'g 입니다.')\n",
        "    else:\n",
        "        print('필요한 KOH양은', need_KOH, 'g 입니다.')\n",
        "\n",
        "answer = input('실행하시겠습니까? 예 또는 아니오를 입력하시오: ')\n",
        "if answer == '예':\n",
        "    hardness = float(input('단단한 비누를 원한다면 1, 무른 비누를 원한다면 2를 입력하시오: '))\n",
        "    cleaning = float(input('원하는 세정력의 정도를 1, 2, 3으로 입력하시오: '))\n",
        "    bubble = float(input('원하는 버블의 정도를 1, 2, 3으로 입력하시오: '))\n",
        "    moisture = float(input('원하는 보습의 정도를 1, 2, 3으로 입력하시오: '))\n",
        "\n",
        "    if hardness == 1:\n",
        "        f_alkali = alkali[0]\n",
        "    else:\n",
        "        f_alkali = alkali[1]\n",
        "\n",
        "    거품보습(f_alkali)\n",
        "\n",
        "    if cleaning > 1:\n",
        "        print('추가로 계면활성제를 넣으면 더 좋은 세정력을 가진 비누를 만들 수 있습니다.')\n",
        "\n",
        "else:\n",
        "    프로그램종료()"
      ]
    }
  ]
}